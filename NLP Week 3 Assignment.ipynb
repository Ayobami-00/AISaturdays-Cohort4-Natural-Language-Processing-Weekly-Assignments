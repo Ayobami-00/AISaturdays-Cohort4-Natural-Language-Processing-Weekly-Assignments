{
 "cells": [
  {
   "cell_type": "code",
   "execution_count": 2,
   "metadata": {},
   "outputs": [],
   "source": [
    "import pandas as pd\n",
    "import re\n",
    "#Loading up scrapped data\n",
    "Scrapped_data =  pd.read_csv('home.csv')"
   ]
  },
  {
   "cell_type": "code",
   "execution_count": 3,
   "metadata": {},
   "outputs": [],
   "source": [
    "yelp_restaurant_data = Scrapped_data[6:]"
   ]
  },
  {
   "cell_type": "code",
   "execution_count": 4,
   "metadata": {},
   "outputs": [],
   "source": [
    "yelp_restaurant_data.index = [0,1,2,3,4]"
   ]
  },
  {
   "cell_type": "code",
   "execution_count": 5,
   "metadata": {},
   "outputs": [
    {
     "name": "stderr",
     "output_type": "stream",
     "text": [
      "C:\\ProgramData\\Anaconda3\\lib\\site-packages\\pandas\\core\\frame.py:3940: SettingWithCopyWarning: \n",
      "A value is trying to be set on a copy of a slice from a DataFrame\n",
      "\n",
      "See the caveats in the documentation: http://pandas.pydata.org/pandas-docs/stable/indexing.html#indexing-view-versus-copy\n",
      "  errors=errors)\n"
     ]
    }
   ],
   "source": [
    "yelp_restaurant_data.drop(['Restaurant_rating','Restaurant_noreview','Restaurant_address','Restaurant_phone'], axis = 1,inplace=True )"
   ]
  },
  {
   "cell_type": "code",
   "execution_count": 6,
   "metadata": {},
   "outputs": [
    {
     "data": {
      "text/html": [
       "<div>\n",
       "<style scoped>\n",
       "    .dataframe tbody tr th:only-of-type {\n",
       "        vertical-align: middle;\n",
       "    }\n",
       "\n",
       "    .dataframe tbody tr th {\n",
       "        vertical-align: top;\n",
       "    }\n",
       "\n",
       "    .dataframe thead th {\n",
       "        text-align: right;\n",
       "    }\n",
       "</style>\n",
       "<table border=\"1\" class=\"dataframe\">\n",
       "  <thead>\n",
       "    <tr style=\"text-align: right;\">\n",
       "      <th></th>\n",
       "      <th>Restaurant_name</th>\n",
       "      <th>Restaurant_review</th>\n",
       "    </tr>\n",
       "  </thead>\n",
       "  <tbody>\n",
       "    <tr>\n",
       "      <th>0</th>\n",
       "      <td>6. Bakesale Betty</td>\n",
       "      <td>“With limited opening hours, I have been wanti...</td>\n",
       "    </tr>\n",
       "    <tr>\n",
       "      <th>1</th>\n",
       "      <td>7. Banh Mi Ba Le</td>\n",
       "      <td>“Quality: 10\\nService: 10\\nTaste: 10\\nWait tim...</td>\n",
       "    </tr>\n",
       "    <tr>\n",
       "      <th>2</th>\n",
       "      <td>8. Champa Garden</td>\n",
       "      <td>“Another hidden treasure by the lake! \\nLove t...</td>\n",
       "    </tr>\n",
       "    <tr>\n",
       "      <th>3</th>\n",
       "      <td>9. Dimond Slice Pizza</td>\n",
       "      <td>“We dropped by randomly on our drive home from...</td>\n",
       "    </tr>\n",
       "    <tr>\n",
       "      <th>4</th>\n",
       "      <td>10. Taqueria Sinaloa</td>\n",
       "      <td>“Sketchy neighbourhood, but a mixed bag of pat...</td>\n",
       "    </tr>\n",
       "  </tbody>\n",
       "</table>\n",
       "</div>"
      ],
      "text/plain": [
       "         Restaurant_name                                  Restaurant_review\n",
       "0      6. Bakesale Betty  “With limited opening hours, I have been wanti...\n",
       "1       7. Banh Mi Ba Le  “Quality: 10\\nService: 10\\nTaste: 10\\nWait tim...\n",
       "2       8. Champa Garden  “Another hidden treasure by the lake! \\nLove t...\n",
       "3  9. Dimond Slice Pizza  “We dropped by randomly on our drive home from...\n",
       "4   10. Taqueria Sinaloa  “Sketchy neighbourhood, but a mixed bag of pat..."
      ]
     },
     "execution_count": 6,
     "metadata": {},
     "output_type": "execute_result"
    }
   ],
   "source": [
    "yelp_restaurant_data"
   ]
  },
  {
   "cell_type": "code",
   "execution_count": 7,
   "metadata": {},
   "outputs": [],
   "source": [
    "#QUESTION 1\n",
    "#Writing regular expressions for the set of all alphabetic strings"
   ]
  },
  {
   "cell_type": "code",
   "execution_count": 8,
   "metadata": {},
   "outputs": [
    {
     "data": {
      "text/plain": [
       "0    [With, limited, opening, hours, I, have, been,...\n",
       "1    [Quality, 10, Service, 10, Taste, 10, Wait, ti...\n",
       "2    [Another, hidden, treasure, by, the, lake, Lov...\n",
       "3    [We, dropped, by, randomly, on, our, drive, ho...\n",
       "4    [Sketchy, neighbourhood, but, a, mixed, bag, o...\n",
       "Name: Restaurant_review, dtype: object"
      ]
     },
     "execution_count": 8,
     "metadata": {},
     "output_type": "execute_result"
    }
   ],
   "source": [
    "alphabetic_strings = re.compile('\\w+')\n",
    "yelp_restaurant_data['Restaurant_review'].apply(lambda x: re.findall(alphabetic_strings,x))"
   ]
  },
  {
   "cell_type": "code",
   "execution_count": 9,
   "metadata": {},
   "outputs": [],
   "source": [
    "#QUESTION 2\n",
    "#Writing regular expressions for the set of lower case alphabetic strings ending in a b:"
   ]
  },
  {
   "cell_type": "code",
   "execution_count": 24,
   "metadata": {},
   "outputs": [
    {
     "data": {
      "text/plain": [
       "0    []\n",
       "1    []\n",
       "2    []\n",
       "3    []\n",
       "4    []\n",
       "Name: Restaurant_review, dtype: object"
      ]
     },
     "execution_count": 24,
     "metadata": {},
     "output_type": "execute_result"
    }
   ],
   "source": [
    "lower_case_alphabetic_strings = re.compile(r'b$')\n",
    "yelp_restaurant_data['Restaurant_review'].apply(lambda x: re.findall(lower_case_alphabetic_strings,x))"
   ]
  },
  {
   "cell_type": "code",
   "execution_count": 14,
   "metadata": {},
   "outputs": [
    {
     "name": "stderr",
     "output_type": "stream",
     "text": [
      "[nltk_data] Downloading package vader_lexicon to\n",
      "[nltk_data]     C:\\Users\\FESTUS\\AppData\\Roaming\\nltk_data...\n",
      "[nltk_data]   Package vader_lexicon is already up-to-date!\n"
     ]
    },
    {
     "name": "stdout",
     "output_type": "stream",
     "text": [
      "[{'neg': 0.068, 'neu': 0.932, 'pos': 0.0, 'compound': -0.2263, 'review': '“With limited opening hours, I have been wanting to check this place out for a while realizing that this is a classic fried chicken sandwich place in Temescal,…”\\xa0read more'}, {'neg': 0.0, 'neu': 0.747, 'pos': 0.253, 'compound': 0.8585, 'review': \"“Quality: 10\\nService: 10\\nTaste: 10\\nWait time: 8\\nPresentation: 9\\n\\nBest Bahn mi I've ever had in Oakland!! Hands-down, cheap and delicious, always will be going…”\\xa0read more\"}, {'neg': 0.061, 'neu': 0.556, 'pos': 0.384, 'compound': 0.915, 'review': '“Another hidden treasure by the lake! \\nLove the pineapple rice with lap chong is fire!\\nAlso the salmon is delicious neighbored treasure for sure would recommend…”\\xa0read more'}]\n"
     ]
    }
   ],
   "source": [
    "import nltk\n",
    "nltk.download('vader_lexicon')\n",
    "from nltk.sentiment.vader import SentimentIntensityAnalyzer as SIA\n",
    "\n",
    "sia = SIA()\n",
    "results = []\n",
    "\n",
    "for line in yelp_restaurant_data['Restaurant_review']:\n",
    "  polarity_score = sia.polarity_scores(line)\n",
    "  polarity_score['review'] = line\n",
    "  results.append(polarity_score)\n",
    "\n",
    "print(results[:3])"
   ]
  },
  {
   "cell_type": "markdown",
   "metadata": {},
   "source": [
    "# PERFORMING SENTIMENTAL ANALYSIS ON THE DATASET"
   ]
  },
  {
   "cell_type": "code",
   "execution_count": 15,
   "metadata": {},
   "outputs": [
    {
     "data": {
      "text/html": [
       "<div>\n",
       "<style scoped>\n",
       "    .dataframe tbody tr th:only-of-type {\n",
       "        vertical-align: middle;\n",
       "    }\n",
       "\n",
       "    .dataframe tbody tr th {\n",
       "        vertical-align: top;\n",
       "    }\n",
       "\n",
       "    .dataframe thead th {\n",
       "        text-align: right;\n",
       "    }\n",
       "</style>\n",
       "<table border=\"1\" class=\"dataframe\">\n",
       "  <thead>\n",
       "    <tr style=\"text-align: right;\">\n",
       "      <th></th>\n",
       "      <th>compound</th>\n",
       "      <th>neg</th>\n",
       "      <th>neu</th>\n",
       "      <th>pos</th>\n",
       "      <th>review</th>\n",
       "    </tr>\n",
       "  </thead>\n",
       "  <tbody>\n",
       "    <tr>\n",
       "      <th>0</th>\n",
       "      <td>-0.2263</td>\n",
       "      <td>0.068</td>\n",
       "      <td>0.932</td>\n",
       "      <td>0.000</td>\n",
       "      <td>“With limited opening hours, I have been wanti...</td>\n",
       "    </tr>\n",
       "    <tr>\n",
       "      <th>1</th>\n",
       "      <td>0.8585</td>\n",
       "      <td>0.000</td>\n",
       "      <td>0.747</td>\n",
       "      <td>0.253</td>\n",
       "      <td>“Quality: 10\\nService: 10\\nTaste: 10\\nWait tim...</td>\n",
       "    </tr>\n",
       "    <tr>\n",
       "      <th>2</th>\n",
       "      <td>0.9150</td>\n",
       "      <td>0.061</td>\n",
       "      <td>0.556</td>\n",
       "      <td>0.384</td>\n",
       "      <td>“Another hidden treasure by the lake! \\nLove t...</td>\n",
       "    </tr>\n",
       "    <tr>\n",
       "      <th>3</th>\n",
       "      <td>0.8553</td>\n",
       "      <td>0.000</td>\n",
       "      <td>0.735</td>\n",
       "      <td>0.265</td>\n",
       "      <td>“We dropped by randomly on our drive home from...</td>\n",
       "    </tr>\n",
       "    <tr>\n",
       "      <th>4</th>\n",
       "      <td>0.3291</td>\n",
       "      <td>0.000</td>\n",
       "      <td>0.927</td>\n",
       "      <td>0.073</td>\n",
       "      <td>“Sketchy neighbourhood, but a mixed bag of pat...</td>\n",
       "    </tr>\n",
       "  </tbody>\n",
       "</table>\n",
       "</div>"
      ],
      "text/plain": [
       "   compound    neg    neu    pos  \\\n",
       "0   -0.2263  0.068  0.932  0.000   \n",
       "1    0.8585  0.000  0.747  0.253   \n",
       "2    0.9150  0.061  0.556  0.384   \n",
       "3    0.8553  0.000  0.735  0.265   \n",
       "4    0.3291  0.000  0.927  0.073   \n",
       "\n",
       "                                              review  \n",
       "0  “With limited opening hours, I have been wanti...  \n",
       "1  “Quality: 10\\nService: 10\\nTaste: 10\\nWait tim...  \n",
       "2  “Another hidden treasure by the lake! \\nLove t...  \n",
       "3  “We dropped by randomly on our drive home from...  \n",
       "4  “Sketchy neighbourhood, but a mixed bag of pat...  "
      ]
     },
     "execution_count": 15,
     "metadata": {},
     "output_type": "execute_result"
    }
   ],
   "source": [
    "dataframe = pd.DataFrame.from_records(results)\n",
    "dataframe.head()"
   ]
  },
  {
   "cell_type": "code",
   "execution_count": 16,
   "metadata": {},
   "outputs": [
    {
     "data": {
      "text/html": [
       "<div>\n",
       "<style scoped>\n",
       "    .dataframe tbody tr th:only-of-type {\n",
       "        vertical-align: middle;\n",
       "    }\n",
       "\n",
       "    .dataframe tbody tr th {\n",
       "        vertical-align: top;\n",
       "    }\n",
       "\n",
       "    .dataframe thead th {\n",
       "        text-align: right;\n",
       "    }\n",
       "</style>\n",
       "<table border=\"1\" class=\"dataframe\">\n",
       "  <thead>\n",
       "    <tr style=\"text-align: right;\">\n",
       "      <th></th>\n",
       "      <th>compound</th>\n",
       "      <th>neg</th>\n",
       "      <th>neu</th>\n",
       "      <th>pos</th>\n",
       "      <th>review</th>\n",
       "      <th>label</th>\n",
       "    </tr>\n",
       "  </thead>\n",
       "  <tbody>\n",
       "    <tr>\n",
       "      <th>0</th>\n",
       "      <td>-0.2263</td>\n",
       "      <td>0.068</td>\n",
       "      <td>0.932</td>\n",
       "      <td>0.000</td>\n",
       "      <td>“With limited opening hours, I have been wanti...</td>\n",
       "      <td>-1</td>\n",
       "    </tr>\n",
       "    <tr>\n",
       "      <th>1</th>\n",
       "      <td>0.8585</td>\n",
       "      <td>0.000</td>\n",
       "      <td>0.747</td>\n",
       "      <td>0.253</td>\n",
       "      <td>“Quality: 10\\nService: 10\\nTaste: 10\\nWait tim...</td>\n",
       "      <td>1</td>\n",
       "    </tr>\n",
       "    <tr>\n",
       "      <th>2</th>\n",
       "      <td>0.9150</td>\n",
       "      <td>0.061</td>\n",
       "      <td>0.556</td>\n",
       "      <td>0.384</td>\n",
       "      <td>“Another hidden treasure by the lake! \\nLove t...</td>\n",
       "      <td>1</td>\n",
       "    </tr>\n",
       "    <tr>\n",
       "      <th>3</th>\n",
       "      <td>0.8553</td>\n",
       "      <td>0.000</td>\n",
       "      <td>0.735</td>\n",
       "      <td>0.265</td>\n",
       "      <td>“We dropped by randomly on our drive home from...</td>\n",
       "      <td>1</td>\n",
       "    </tr>\n",
       "    <tr>\n",
       "      <th>4</th>\n",
       "      <td>0.3291</td>\n",
       "      <td>0.000</td>\n",
       "      <td>0.927</td>\n",
       "      <td>0.073</td>\n",
       "      <td>“Sketchy neighbourhood, but a mixed bag of pat...</td>\n",
       "      <td>1</td>\n",
       "    </tr>\n",
       "  </tbody>\n",
       "</table>\n",
       "</div>"
      ],
      "text/plain": [
       "   compound    neg    neu    pos  \\\n",
       "0   -0.2263  0.068  0.932  0.000   \n",
       "1    0.8585  0.000  0.747  0.253   \n",
       "2    0.9150  0.061  0.556  0.384   \n",
       "3    0.8553  0.000  0.735  0.265   \n",
       "4    0.3291  0.000  0.927  0.073   \n",
       "\n",
       "                                              review  label  \n",
       "0  “With limited opening hours, I have been wanti...     -1  \n",
       "1  “Quality: 10\\nService: 10\\nTaste: 10\\nWait tim...      1  \n",
       "2  “Another hidden treasure by the lake! \\nLove t...      1  \n",
       "3  “We dropped by randomly on our drive home from...      1  \n",
       "4  “Sketchy neighbourhood, but a mixed bag of pat...      1  "
      ]
     },
     "execution_count": 16,
     "metadata": {},
     "output_type": "execute_result"
    }
   ],
   "source": [
    "dataframe['label'] = 0\n",
    "dataframe.loc[dataframe['compound'] > 0.2, 'label'] = 1\n",
    "dataframe.loc[dataframe['compound'] < -0.2, 'label'] = -1\n",
    "dataframe.head()"
   ]
  },
  {
   "cell_type": "code",
   "execution_count": 18,
   "metadata": {},
   "outputs": [
    {
     "data": {
      "text/html": [
       "<div>\n",
       "<style scoped>\n",
       "    .dataframe tbody tr th:only-of-type {\n",
       "        vertical-align: middle;\n",
       "    }\n",
       "\n",
       "    .dataframe tbody tr th {\n",
       "        vertical-align: top;\n",
       "    }\n",
       "\n",
       "    .dataframe thead th {\n",
       "        text-align: right;\n",
       "    }\n",
       "</style>\n",
       "<table border=\"1\" class=\"dataframe\">\n",
       "  <thead>\n",
       "    <tr style=\"text-align: right;\">\n",
       "      <th></th>\n",
       "      <th>review</th>\n",
       "      <th>label</th>\n",
       "    </tr>\n",
       "  </thead>\n",
       "  <tbody>\n",
       "    <tr>\n",
       "      <th>0</th>\n",
       "      <td>“With limited opening hours, I have been wanti...</td>\n",
       "      <td>-1</td>\n",
       "    </tr>\n",
       "    <tr>\n",
       "      <th>1</th>\n",
       "      <td>“Quality: 10\\nService: 10\\nTaste: 10\\nWait tim...</td>\n",
       "      <td>1</td>\n",
       "    </tr>\n",
       "    <tr>\n",
       "      <th>2</th>\n",
       "      <td>“Another hidden treasure by the lake! \\nLove t...</td>\n",
       "      <td>1</td>\n",
       "    </tr>\n",
       "    <tr>\n",
       "      <th>3</th>\n",
       "      <td>“We dropped by randomly on our drive home from...</td>\n",
       "      <td>1</td>\n",
       "    </tr>\n",
       "    <tr>\n",
       "      <th>4</th>\n",
       "      <td>“Sketchy neighbourhood, but a mixed bag of pat...</td>\n",
       "      <td>1</td>\n",
       "    </tr>\n",
       "  </tbody>\n",
       "</table>\n",
       "</div>"
      ],
      "text/plain": [
       "                                              review  label\n",
       "0  “With limited opening hours, I have been wanti...     -1\n",
       "1  “Quality: 10\\nService: 10\\nTaste: 10\\nWait tim...      1\n",
       "2  “Another hidden treasure by the lake! \\nLove t...      1\n",
       "3  “We dropped by randomly on our drive home from...      1\n",
       "4  “Sketchy neighbourhood, but a mixed bag of pat...      1"
      ]
     },
     "execution_count": 18,
     "metadata": {},
     "output_type": "execute_result"
    }
   ],
   "source": [
    "new_dataframe = dataframe[['review', 'label']]\n",
    "new_dataframe.head(5)"
   ]
  },
  {
   "cell_type": "code",
   "execution_count": null,
   "metadata": {},
   "outputs": [],
   "source": []
  }
 ],
 "metadata": {
  "kernelspec": {
   "display_name": "Python 3",
   "language": "python",
   "name": "python3"
  },
  "language_info": {
   "codemirror_mode": {
    "name": "ipython",
    "version": 3
   },
   "file_extension": ".py",
   "mimetype": "text/x-python",
   "name": "python",
   "nbconvert_exporter": "python",
   "pygments_lexer": "ipython3",
   "version": "3.7.3"
  }
 },
 "nbformat": 4,
 "nbformat_minor": 2
}
